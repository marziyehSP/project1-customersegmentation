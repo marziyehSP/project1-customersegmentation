{
 "cells": [
  {
   "cell_type": "markdown",
   "id": "a58bcc47",
   "metadata": {},
   "source": [
    "Customer segmentation by using K-mean clustering  and K-mean clustering with PCA"
   ]
  },
  {
   "cell_type": "markdown",
   "id": "cb4e9743",
   "metadata": {},
   "source": [
    "Data Preprocessing"
   ]
  },
  {
   "cell_type": "code",
   "execution_count": null,
   "id": "1f16b29b",
   "metadata": {},
   "outputs": [],
   "source": [
    "#import libraries\n",
    "import pandas as pd\n",
    "import numpy as np\n",
    "from datetime import datetime\n",
    "from sklearn.cluster import KMeans\n",
    "from sklearn.preprocessing import StandardScaler\n",
    "import matplotlib.pyplot as plt\n",
    "import seaborn as sns\n",
    "from sklearn.decomposition import PCA\n",
    "from sklearn.cluster import KMeans\n",
    "import matplotlib.pyplot as plt\n",
    "\n"
   ]
  },
  {
   "cell_type": "code",
   "execution_count": null,
   "id": "8b6c31c0",
   "metadata": {},
   "outputs": [],
   "source": [
    "\n",
    "# Provide the relative file path to the bank_transactions dataset\n",
    "file_path = \"bank_transactions2.csv\"\n",
    "\n",
    "# Load the bank_transactions dataset\n",
    "data = pd.read_csv(file_path)\n",
    "\n",
    "# Check for missing values\n",
    "print(dataset.isnull().sum())\n",
    "\n",
    "# Explore the dataset\n",
    "print(\"First few rows of the dataset:\")\n",
    "print(dataset.head())  \n",
    "print(\"\\nInformation about the dataset:\")\n",
    "print(dataset.info())  \n",
    "\n",
    "# Preprocess the data\n",
    "cleaned_dataset = dataset.copy() \n",
    "# Remove rows with missing values\n",
    "cleaned_dataset= cleaned_dataset.dropna()\n",
    "\n",
    "# Remove outliers_transaction_amount\n",
    "Q1 = cleaned_dataset['TransactionAmount'].quantile(0.25)\n",
    "Q3 = cleaned_dataset['TransactionAmount'].quantile(0.75)\n",
    "IQR = Q3 - Q1\n",
    "lower_bound = Q1 - 1.5 * IQR\n",
    "upper_bound = Q3 + 1.5 * IQR\n",
    "cleaned_dataset = cleaned_dataset[(cleaned_dataset['TransactionAmount'] >= lower_bound) & (cleaned_dataset['TransactionAmount'] <= upper_bound)]\n",
    "\n",
    "# Convert categorical variables to appropriate data types-'CustAccountBalance'&'TransactionDate'\n",
    "cleaned_dataset['CustomerDOB'] = pd.to_datetime(cleaned_dataset['CustomerDOB'])\n",
    "cleaned_dataset['TransactionDate'] = pd.to_datetime(cleaned_dataset['TransactionDate'])\n",
    "\n",
    "# Convert CustGender to 1 for 'F' and 0 for 'M'\n",
    "cleaned_dataset['CustGender'] = cleaned_dataset['CustGender'].apply(lambda x: 1.0 if x == 'F' else 0.0)\n",
    "\n"
   ]
  },
  {
   "cell_type": "markdown",
   "id": "e3c7822d",
   "metadata": {},
   "source": [
    "Grouping Data"
   ]
  },
  {
   "cell_type": "code",
   "execution_count": null,
   "id": "74591940",
   "metadata": {},
   "outputs": [],
   "source": [
    "# Create a new DataFrame grouped by CustomerID\n",
    "grouped_data = cleaned_dataset.groupby('CustomerID').first().reset_index()\n",
    "\n",
    "# Calculate the age based on CustomerDOB\n",
    "current_year = datetime.now().year\n",
    "grouped_data['CustomerDOB'] = pd.to_datetime(grouped_data['CustomerDOB'])\n",
    "grouped_data['Age'] = current_year - grouped_data['CustomerDOB'].dt.year\n",
    "\n",
    "# Remove rows with age less than 18 or age greater than 75\n",
    "grouped_data = grouped_data[(grouped_data['Age'] >= 18) & (grouped_data['Age'] <= 75)]\n",
    "\n",
    "# Assign a unique number to each city in CustLocation\n",
    "grouped_data['Location'] = pd.Categorical(grouped_data['CustLocation']).codes + 1\n",
    "\n",
    "# Check the cleaned data\n",
    "print(grouped_data.head())\n",
    "\n",
    "# Show the description table\n",
    "description_table = grouped_data.describe()\n",
    "print(description_table)"
   ]
  },
  {
   "cell_type": "markdown",
   "id": "38b78dbf",
   "metadata": {},
   "source": [
    "Number of Clusters (k)"
   ]
  },
  {
   "cell_type": "code",
   "execution_count": null,
   "id": "fb21237a",
   "metadata": {},
   "outputs": [],
   "source": [
    "sample_size = int(len(grouped_data) /100)\n",
    "data_sample = grouped_data.sample(n=sample_size, random_state=42)\n",
    "\n",
    "# Select the relevant columns for clustering\n",
    "columns_for_clustering = ['CustAccountBalance','TransactionAmount', 'Age', 'Location']\n",
    "X = data_sample[columns_for_clustering]\n",
    "\n",
    " #Standardize the data\n",
    "scaler = StandardScaler()\n",
    "X_scaled = scaler.fit_transform(X)\n",
    "\n",
    "# Determine the optimal number of clusters using the elbow method\n",
    "inertia = []\n",
    "k_values = range(1, 11)  # Trying k values from 1 to 10\n",
    "for k in k_values:\n",
    "    kmeans = KMeans(n_clusters=k, random_state=42)\n",
    "    kmeans.fit(X_scaled)\n",
    "    inertia.append(kmeans.inertia_)\n",
    "\n",
    "# Plot the elbow curve\n",
    "plt.plot(k_values, inertia, marker='o')\n",
    "plt.xlabel('Number of Clusters (k)')\n",
    "plt.ylabel('Inertia')\n",
    "plt.title('Elbow Curve')\n",
    "plt.show()"
   ]
  },
  {
   "cell_type": "markdown",
   "id": "3e8c8874",
   "metadata": {},
   "source": [
    "k-means clustering with k=4"
   ]
  },
  {
   "cell_type": "code",
   "execution_count": null,
   "id": "ced0284a",
   "metadata": {},
   "outputs": [],
   "source": [
    "\n",
    "# Select the relevant columns for clustering\n",
    "columns_for_clustering = ['CustAccountBalance','TransactionAmount', 'Age', 'Location']\n",
    "X = data_sample[columns_for_clustering]\n",
    "\n",
    "# Standardize the data\n",
    "scaler = StandardScaler()\n",
    "X_scaled = scaler.fit_transform(X)\n",
    "\n",
    "# Perform k-means clustering with k=4\n",
    "kmeans = KMeans(n_clusters=5, n_init=10, random_state=42)\n",
    "kmeans.fit(X_scaled)\n",
    "\n",
    "# Get the cluster labels for each data point\n",
    "labels = kmeans.labels_\n",
    "\n",
    "# Add the cluster labels to the original dataset\n",
    "data_sample['Cluster'] = labels\n",
    "\n",
    "# Print the counts of each cluster\n",
    "print(data_sample['Cluster'].value_counts())"
   ]
  },
  {
   "cell_type": "code",
   "execution_count": null,
   "id": "451e481f",
   "metadata": {},
   "outputs": [],
   "source": [
    "analyze each cluster"
   ]
  },
  {
   "cell_type": "code",
   "execution_count": null,
   "id": "a28cfd35",
   "metadata": {},
   "outputs": [],
   "source": [
    "# Calculate the mean value of each feature in each cluster group\n",
    "cluster_means = data_sample.groupby('Cluster').mean(numeric_only=True)\n",
    "\n",
    "# Display the table\n",
    "print(cluster_means)\n"
   ]
  },
  {
   "cell_type": "markdown",
   "id": "25bb7a22",
   "metadata": {},
   "source": [
    "Calculate the mean value and the standard deviation of each feature in each cluster group"
   ]
  },
  {
   "cell_type": "code",
   "execution_count": null,
   "id": "9c1fc15b",
   "metadata": {},
   "outputs": [],
   "source": [
    "\n",
    "# Calculate the mean value of each feature in each cluster group\n",
    "cluster_means = data_sample.groupby('Cluster').mean()\n",
    "\n",
    "# Plot the mean values for each feature\n",
    "cluster_means.plot(kind='bar', figsize=(10, 6))\n",
    "plt.title('Mean Values of Features by Cluster')\n",
    "plt.xlabel('Cluster')\n",
    "plt.ylabel('Mean Value')\n",
    "plt.legend(loc='upper right')\n",
    "plt.xticks(rotation=0)\n",
    "plt.show()\n",
    "\n",
    "# Calculate the standard deviation of each feature in each cluster group\n",
    "cluster_stds = data_sample.groupby('Cluster').std()\n",
    "\n",
    "# Plot the standard deviation values for each feature\n",
    "cluster_stds.plot(kind='bar', figsize=(10, 6))\n",
    "plt.title('Standard Deviation of Features by Cluster')\n",
    "plt.xlabel('Cluster')\n",
    "plt.ylabel('Standard Deviation')\n",
    "plt.legend(loc='upper right')\n",
    "plt.xticks(rotation=0)\n",
    "plt.show()\n"
   ]
  },
  {
   "cell_type": "markdown",
   "id": "099d4ca8",
   "metadata": {},
   "source": [
    "plot CustAccountBalance-Age"
   ]
  },
  {
   "cell_type": "code",
   "execution_count": null,
   "id": "43147c5b",
   "metadata": {},
   "outputs": [],
   "source": [
    "# Define the colors \n",
    "cluster_colors = ['red', 'blue', 'green', 'purple','black']\n",
    "\n",
    "#plot CustAccountBalance-Age\n",
    "plt.scatter(data_sample['CustAccountBalance'], data_sample['Age'], c=[cluster_colors[i] for i in data_sample['Cluster']])\n",
    "plt.xlabel('CustAccountBalance')\n",
    "plt.ylabel('CustGender')\n",
    "plt.title('Scatter Plot with Clusters')\n",
    "\n",
    "# Add a legend \n",
    "for i, color in enumerate(cluster_colors):\n",
    "    plt.scatter([], [], c=color, label=f'Cluster {i}')\n",
    "plt.legend()\n",
    "\n",
    "plt.show()"
   ]
  },
  {
   "cell_type": "markdown",
   "id": "2a62ec40",
   "metadata": {},
   "source": [
    "Box Plot Cluster-Age"
   ]
  },
  {
   "cell_type": "code",
   "execution_count": null,
   "id": "a9b621b1",
   "metadata": {},
   "outputs": [],
   "source": [
    "#Box Plot by Cluster\n",
    "sns.boxplot(x='Cluster', y='Age', data=data_sample)\n",
    "plt.xlabel('Cluster')\n",
    "plt.ylabel('Age')\n",
    "plt.title('Box Plot by Cluster')\n",
    "plt.show()"
   ]
  },
  {
   "cell_type": "markdown",
   "id": "64ab254d",
   "metadata": {},
   "source": [
    "k-mean clustering with PCA"
   ]
  },
  {
   "cell_type": "markdown",
   "id": "a4eeeb9d",
   "metadata": {},
   "source": [
    "Explained Variance Ratio - Number of Components"
   ]
  },
  {
   "cell_type": "code",
   "execution_count": null,
   "id": "82fa02fc",
   "metadata": {},
   "outputs": [],
   "source": [
    "numeric_columns = data_sample.select_dtypes(include=[np.number]).columns\n",
    "data_numeric = data_sample[numeric_columns]\n",
    "\n",
    "# Perform PCA for dimensionality reduction\n",
    "pca = PCA()\n",
    "pca.fit(data_numeric)\n",
    "\n",
    "# Calculate the cumulative explained variance ratio\n",
    "explained_variance_ratio_cumulative = np.cumsum(pca.explained_variance_ratio_)\n",
    "\n",
    "# Plot the explained variance ratio\n",
    "plt.plot(range(1, len(explained_variance_ratio_cumulative) + 1), explained_variance_ratio_cumulative, marker='o')\n",
    "plt.xlabel('Number of Components')\n",
    "plt.ylabel('Cumulative Explained Variance Ratio')\n",
    "plt.title('Explained Variance Ratio by Number of Components')\n",
    "plt.show()\n"
   ]
  },
  {
   "cell_type": "markdown",
   "id": "bc9334f5",
   "metadata": {},
   "source": [
    "Number of Clusters (k)-k-mean clustering with PCA"
   ]
  },
  {
   "cell_type": "code",
   "execution_count": null,
   "id": "69111e67",
   "metadata": {},
   "outputs": [],
   "source": [
    "# Standardize the data\n",
    "scaler = StandardScaler()\n",
    "data_numeric_scaled = scaler.fit_transform(data_numeric)\n",
    "\n",
    "# Perform PCA for dimensionality reduction\n",
    "pca = PCA()\n",
    "X_reduced = pca.fit_transform(data_numeric_scaled)\n",
    "\n",
    "# Calculate the explained variance ratio for each principal component\n",
    "explained_variance_ratio = pca.explained_variance_ratio_\n",
    "\n",
    "# Plot the explained variance ratio\n",
    "plt.plot(range(1, len(explained_variance_ratio) + 1), explained_variance_ratio, marker='o')\n",
    "plt.xlabel('Number of Components')\n",
    "plt.ylabel('Explained Variance Ratio')\n",
    "plt.title('PCA - Explained Variance Ratio')\n",
    "plt.show()"
   ]
  },
  {
   "cell_type": "markdown",
   "id": "1740d4ab",
   "metadata": {},
   "source": [
    "Output of k-mean clustering with PCA"
   ]
  },
  {
   "cell_type": "code",
   "execution_count": null,
   "id": "79dd5468",
   "metadata": {},
   "outputs": [],
   "source": [
    "#copydata_sample\n",
    "data_sample_copy = data_sample.copy()\n",
    "# Perform PCA for dimensionality reduction\n",
    "pca = PCA(n_components=2)\n",
    "X_reduced = pca.fit_transform(X_scaled)\n",
    "\n",
    "# Perform k-means clustering\n",
    "kmeans = KMeans(n_clusters=3)\n",
    "kmeans.fit(X_reduced)\n",
    "\n",
    "data_sample_copy['Cluster'] = kmeans.labels_\n",
    "\n",
    "# Plot the clusters\n",
    "plt.scatter(X_reduced[:, 0], X_reduced[:, 1], c=data_sample_copy['Cluster'])\n",
    "plt.xlabel(' Component 1')\n",
    "plt.ylabel('Component 2')\n",
    "plt.title('K-means Clustering with PCA')\n",
    "plt.show()\n",
    "\n",
    "#PCA Components Heatmap\n",
    "df_pca_comp=pd.DataFrame(data=pca.components_,columns=data_sample[columns_for_clustering].columns.values,index=['component1','component2'])\n",
    "sns.heatmap(df_pca_comp, annot=True, cmap='coolwarm')\n",
    "plt.xlabel('Features')\n",
    "plt.ylabel('Principal Components')\n",
    "plt.title('PCA Components Heatmap')\n",
    "plt.show()\n",
    "df_pca_comp"
   ]
  }
 ],
 "metadata": {
  "kernelspec": {
   "display_name": "Python 3 (ipykernel)",
   "language": "python",
   "name": "python3"
  },
  "language_info": {
   "codemirror_mode": {
    "name": "ipython",
    "version": 3
   },
   "file_extension": ".py",
   "mimetype": "text/x-python",
   "name": "python",
   "nbconvert_exporter": "python",
   "pygments_lexer": "ipython3",
   "version": "3.9.13"
  }
 },
 "nbformat": 4,
 "nbformat_minor": 5
}
